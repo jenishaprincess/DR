{
  "nbformat": 4,
  "nbformat_minor": 0,
  "metadata": {
    "colab": {
      "provenance": []
    },
    "kernelspec": {
      "name": "python3",
      "display_name": "Python 3"
    },
    "language_info": {
      "name": "python"
    }
  },
  "cells": [
    {
      "cell_type": "code",
      "execution_count": null,
      "metadata": {
        "colab": {
          "base_uri": "https://localhost:8080/"
        },
        "id": "Eqw0yvsXNsN-",
        "outputId": "e9a3d35b-3b90-4702-8c9e-d76f69300a26"
      },
      "outputs": [
        {
          "output_type": "stream",
          "name": "stdout",
          "text": [
            "Mounted at /content/drive\n"
          ]
        }
      ],
      "source": [
        "import os\n",
        "import numpy as np\n",
        "from keras.applications.vgg16 import VGG16, preprocess_input\n",
        "from keras.preprocessing import image\n",
        "from sklearn.tree import DecisionTreeClassifier\n",
        "from sklearn import metrics\n",
        "from sklearn.metrics import classification_report, confusion_matrix\n",
        "import seaborn as sns\n",
        "import matplotlib.pyplot as plt\n",
        "from google.colab import drive\n",
        "\n",
        "drive.mount('/content/drive')"
      ]
    },
    {
      "cell_type": "code",
      "source": [
        "# Data directories\n",
        "train_dir = '/content/drive/MyDrive/DR_50/Train'\n",
        "test_dir = '/content/drive/MyDrive/DR_50/Test'\n",
        "valid_dir = '/content/drive/MyDrive/DR_50/Valid'"
      ],
      "metadata": {
        "id": "rihUfI9gN0sS"
      },
      "execution_count": null,
      "outputs": []
    },
    {
      "cell_type": "code",
      "source": [
        "# Image dimensions\n",
        "img_width, img_height = 300, 300  # Adjust according to your image dimensions\n",
        "batch_size = 32\n",
        "num_epochs = 20\n"
      ],
      "metadata": {
        "id": "dvebVD0FN7q9"
      },
      "execution_count": null,
      "outputs": []
    },
    {
      "cell_type": "code",
      "source": [
        "# Load model for feature extraction\n",
        "model = VGG16(weights='imagenet', include_top=False)"
      ],
      "metadata": {
        "colab": {
          "base_uri": "https://localhost:8080/"
        },
        "id": "loOs1XFmN9wm",
        "outputId": "5790c3bd-6204-401b-f2e1-c2cf7d502ab8"
      },
      "execution_count": null,
      "outputs": [
        {
          "output_type": "stream",
          "name": "stdout",
          "text": [
            "Downloading data from https://storage.googleapis.com/tensorflow/keras-applications/vgg16/vgg16_weights_tf_dim_ordering_tf_kernels_notop.h5\n",
            "58889256/58889256 [==============================] - 2s 0us/step\n"
          ]
        }
      ]
    },
    {
      "cell_type": "code",
      "source": [
        "# Function to extract features from an image\n",
        "def extract_features(img_path):\n",
        "    img = image.load_img(img_path, target_size=(224, 224))\n",
        "    img_data = image.img_to_array(img)\n",
        "    img_data = np.expand_dims(img_data, axis=0)\n",
        "    img_data = preprocess_input(img_data)  # Preprocess input for VGG16\n",
        "    features = model.predict(img_data)\n",
        "    return features"
      ],
      "metadata": {
        "id": "1DLieyx2OEZ4"
      },
      "execution_count": null,
      "outputs": []
    },
    {
      "cell_type": "code",
      "source": [
        "# Load images and extract features for training set\n",
        "x_train, y_train = [], []\n",
        "for i in range(5):\n",
        "    class_dir = os.path.join(train_dir, str(i))\n",
        "    for img_path in os.listdir(class_dir):\n",
        "        features = extract_features(os.path.join(class_dir, img_path))\n",
        "        x_train.append(features.flatten())\n",
        "        y_train.append(i)\n"
      ],
      "metadata": {
        "colab": {
          "base_uri": "https://localhost:8080/"
        },
        "id": "kRhilY8zOHG8",
        "outputId": "fd001d2a-db1c-4763-ca2d-21e1fdde46f1"
      },
      "execution_count": null,
      "outputs": [
        {
          "output_type": "stream",
          "name": "stdout",
          "text": [
            "1/1 [==============================] - 1s 1s/step\n",
            "1/1 [==============================] - 1s 944ms/step\n",
            "1/1 [==============================] - 1s 888ms/step\n",
            "1/1 [==============================] - 1s 568ms/step\n",
            "1/1 [==============================] - 1s 585ms/step\n",
            "1/1 [==============================] - 1s 562ms/step\n",
            "1/1 [==============================] - 1s 549ms/step\n",
            "1/1 [==============================] - 1s 1s/step\n",
            "1/1 [==============================] - 1s 855ms/step\n",
            "1/1 [==============================] - 1s 540ms/step\n",
            "1/1 [==============================] - 1s 574ms/step\n",
            "1/1 [==============================] - 1s 539ms/step\n",
            "1/1 [==============================] - 1s 539ms/step\n",
            "1/1 [==============================] - 1s 533ms/step\n",
            "1/1 [==============================] - 1s 538ms/step\n",
            "1/1 [==============================] - 1s 540ms/step\n",
            "1/1 [==============================] - 1s 548ms/step\n",
            "1/1 [==============================] - 1s 529ms/step\n",
            "1/1 [==============================] - 1s 1s/step\n",
            "1/1 [==============================] - 1s 943ms/step\n",
            "1/1 [==============================] - 1s 551ms/step\n",
            "1/1 [==============================] - 1s 775ms/step\n",
            "1/1 [==============================] - 1s 709ms/step\n",
            "1/1 [==============================] - 1s 627ms/step\n",
            "1/1 [==============================] - 1s 548ms/step\n",
            "1/1 [==============================] - 1s 585ms/step\n",
            "1/1 [==============================] - 1s 557ms/step\n",
            "1/1 [==============================] - 1s 547ms/step\n",
            "1/1 [==============================] - 1s 740ms/step\n",
            "1/1 [==============================] - 1s 968ms/step\n",
            "1/1 [==============================] - 1s 707ms/step\n",
            "1/1 [==============================] - 1s 546ms/step\n",
            "1/1 [==============================] - 1s 543ms/step\n",
            "1/1 [==============================] - 1s 538ms/step\n",
            "1/1 [==============================] - 1s 538ms/step\n",
            "1/1 [==============================] - 1s 543ms/step\n",
            "1/1 [==============================] - 1s 547ms/step\n",
            "1/1 [==============================] - 1s 544ms/step\n",
            "1/1 [==============================] - 1s 556ms/step\n",
            "1/1 [==============================] - 1s 540ms/step\n",
            "1/1 [==============================] - 1s 620ms/step\n",
            "1/1 [==============================] - 1s 976ms/step\n",
            "1/1 [==============================] - 1s 883ms/step\n",
            "1/1 [==============================] - 1s 540ms/step\n",
            "1/1 [==============================] - 1s 543ms/step\n",
            "1/1 [==============================] - 1s 538ms/step\n",
            "1/1 [==============================] - 1s 563ms/step\n",
            "1/1 [==============================] - 1s 533ms/step\n",
            "1/1 [==============================] - 1s 553ms/step\n",
            "1/1 [==============================] - 1s 545ms/step\n",
            "1/1 [==============================] - 1s 535ms/step\n",
            "1/1 [==============================] - 1s 549ms/step\n",
            "1/1 [==============================] - 1s 548ms/step\n",
            "1/1 [==============================] - 1s 975ms/step\n",
            "1/1 [==============================] - 1s 939ms/step\n",
            "1/1 [==============================] - 1s 539ms/step\n",
            "1/1 [==============================] - 1s 538ms/step\n",
            "1/1 [==============================] - 1s 528ms/step\n",
            "1/1 [==============================] - 1s 739ms/step\n",
            "1/1 [==============================] - 1s 553ms/step\n",
            "1/1 [==============================] - 1s 535ms/step\n",
            "1/1 [==============================] - 1s 545ms/step\n",
            "1/1 [==============================] - 1s 533ms/step\n",
            "1/1 [==============================] - 1s 534ms/step\n",
            "1/1 [==============================] - 1s 533ms/step\n",
            "1/1 [==============================] - 1s 920ms/step\n",
            "1/1 [==============================] - 1s 981ms/step\n",
            "1/1 [==============================] - 1s 722ms/step\n",
            "1/1 [==============================] - 1s 542ms/step\n",
            "1/1 [==============================] - 1s 545ms/step\n",
            "1/1 [==============================] - 1s 523ms/step\n",
            "1/1 [==============================] - 1s 524ms/step\n",
            "1/1 [==============================] - 1s 532ms/step\n",
            "1/1 [==============================] - 1s 516ms/step\n",
            "1/1 [==============================] - 1s 536ms/step\n",
            "1/1 [==============================] - 1s 531ms/step\n",
            "1/1 [==============================] - 1s 752ms/step\n",
            "1/1 [==============================] - 1s 999ms/step\n",
            "1/1 [==============================] - 1s 886ms/step\n",
            "1/1 [==============================] - 1s 537ms/step\n",
            "1/1 [==============================] - 1s 532ms/step\n",
            "1/1 [==============================] - 1s 536ms/step\n",
            "1/1 [==============================] - 1s 535ms/step\n",
            "1/1 [==============================] - 1s 547ms/step\n",
            "1/1 [==============================] - 1s 571ms/step\n",
            "1/1 [==============================] - 1s 554ms/step\n",
            "1/1 [==============================] - 1s 559ms/step\n",
            "1/1 [==============================] - 1s 553ms/step\n",
            "1/1 [==============================] - 1s 808ms/step\n",
            "1/1 [==============================] - 1s 981ms/step\n",
            "1/1 [==============================] - 1s 867ms/step\n",
            "1/1 [==============================] - 1s 543ms/step\n",
            "1/1 [==============================] - 1s 544ms/step\n",
            "1/1 [==============================] - 1s 536ms/step\n",
            "1/1 [==============================] - 1s 536ms/step\n",
            "1/1 [==============================] - 1s 565ms/step\n",
            "1/1 [==============================] - 1s 537ms/step\n",
            "1/1 [==============================] - 1s 532ms/step\n",
            "1/1 [==============================] - 1s 524ms/step\n",
            "1/1 [==============================] - 1s 549ms/step\n",
            "1/1 [==============================] - 1s 811ms/step\n",
            "1/1 [==============================] - 1s 935ms/step\n",
            "1/1 [==============================] - 1s 827ms/step\n",
            "1/1 [==============================] - 1s 534ms/step\n",
            "1/1 [==============================] - 1s 540ms/step\n",
            "1/1 [==============================] - 1s 550ms/step\n",
            "1/1 [==============================] - 1s 535ms/step\n",
            "1/1 [==============================] - 1s 540ms/step\n",
            "1/1 [==============================] - 1s 535ms/step\n",
            "1/1 [==============================] - 1s 523ms/step\n",
            "1/1 [==============================] - 1s 543ms/step\n",
            "1/1 [==============================] - 1s 551ms/step\n",
            "1/1 [==============================] - 1s 563ms/step\n",
            "1/1 [==============================] - 1s 975ms/step\n",
            "1/1 [==============================] - 1s 869ms/step\n",
            "1/1 [==============================] - 1s 527ms/step\n",
            "1/1 [==============================] - 1s 535ms/step\n",
            "1/1 [==============================] - 1s 531ms/step\n",
            "1/1 [==============================] - 1s 535ms/step\n",
            "1/1 [==============================] - 1s 534ms/step\n",
            "1/1 [==============================] - 1s 532ms/step\n",
            "1/1 [==============================] - 1s 523ms/step\n",
            "1/1 [==============================] - 1s 542ms/step\n",
            "1/1 [==============================] - 1s 534ms/step\n",
            "1/1 [==============================] - 1s 544ms/step\n",
            "1/1 [==============================] - 1s 975ms/step\n",
            "1/1 [==============================] - 1s 869ms/step\n",
            "1/1 [==============================] - 1s 550ms/step\n",
            "1/1 [==============================] - 1s 529ms/step\n",
            "1/1 [==============================] - 1s 525ms/step\n",
            "1/1 [==============================] - 1s 528ms/step\n",
            "1/1 [==============================] - 1s 527ms/step\n",
            "1/1 [==============================] - 1s 704ms/step\n",
            "1/1 [==============================] - 1s 605ms/step\n",
            "1/1 [==============================] - 1s 551ms/step\n",
            "1/1 [==============================] - 1s 542ms/step\n",
            "1/1 [==============================] - 1s 976ms/step\n",
            "1/1 [==============================] - 1s 857ms/step\n",
            "1/1 [==============================] - 1s 549ms/step\n",
            "1/1 [==============================] - 1s 556ms/step\n",
            "1/1 [==============================] - 1s 523ms/step\n",
            "1/1 [==============================] - 1s 530ms/step\n",
            "1/1 [==============================] - 1s 530ms/step\n",
            "1/1 [==============================] - 1s 544ms/step\n",
            "1/1 [==============================] - 1s 518ms/step\n",
            "1/1 [==============================] - 1s 544ms/step\n",
            "1/1 [==============================] - 1s 523ms/step\n",
            "1/1 [==============================] - 1s 720ms/step\n",
            "1/1 [==============================] - 1s 916ms/step\n",
            "1/1 [==============================] - 1s 921ms/step\n",
            "1/1 [==============================] - 1s 520ms/step\n",
            "1/1 [==============================] - 1s 517ms/step\n",
            "1/1 [==============================] - 1s 532ms/step\n",
            "1/1 [==============================] - 1s 541ms/step\n",
            "1/1 [==============================] - 1s 534ms/step\n",
            "1/1 [==============================] - 1s 530ms/step\n",
            "1/1 [==============================] - 1s 534ms/step\n",
            "1/1 [==============================] - 1s 553ms/step\n",
            "1/1 [==============================] - 1s 536ms/step\n",
            "1/1 [==============================] - 1s 649ms/step\n",
            "1/1 [==============================] - 1s 942ms/step\n",
            "1/1 [==============================] - 1s 926ms/step\n",
            "1/1 [==============================] - 1s 551ms/step\n",
            "1/1 [==============================] - 1s 564ms/step\n",
            "1/1 [==============================] - 1s 545ms/step\n",
            "1/1 [==============================] - 1s 543ms/step\n",
            "1/1 [==============================] - 1s 554ms/step\n",
            "1/1 [==============================] - 1s 548ms/step\n",
            "1/1 [==============================] - 1s 547ms/step\n",
            "1/1 [==============================] - 1s 550ms/step\n",
            "1/1 [==============================] - 1s 547ms/step\n",
            "1/1 [==============================] - 1s 546ms/step\n",
            "1/1 [==============================] - 1s 952ms/step\n",
            "1/1 [==============================] - 1s 910ms/step\n",
            "1/1 [==============================] - 1s 549ms/step\n"
          ]
        }
      ]
    },
    {
      "cell_type": "code",
      "source": [
        "# Load images and extract features for test set\n",
        "x_test, y_test = [], []\n",
        "for i in range(5):\n",
        "    class_dir = os.path.join(test_dir, str(i))\n",
        "    for img_path in os.listdir(class_dir):\n",
        "        features = extract_features(os.path.join(class_dir, img_path))\n",
        "        x_test.append(features.flatten())\n",
        "        y_test.append(i)\n"
      ],
      "metadata": {
        "colab": {
          "base_uri": "https://localhost:8080/"
        },
        "id": "h5Pw04P_OKS6",
        "outputId": "1a31591a-e8ab-4336-a209-92fca63d5e24"
      },
      "execution_count": null,
      "outputs": [
        {
          "output_type": "stream",
          "name": "stdout",
          "text": [
            "1/1 [==============================] - 1s 549ms/step\n",
            "1/1 [==============================] - 1s 947ms/step\n",
            "1/1 [==============================] - 1s 996ms/step\n",
            "1/1 [==============================] - 1s 729ms/step\n",
            "1/1 [==============================] - 1s 552ms/step\n",
            "1/1 [==============================] - 1s 555ms/step\n",
            "1/1 [==============================] - 1s 557ms/step\n",
            "1/1 [==============================] - 1s 565ms/step\n",
            "1/1 [==============================] - 1s 544ms/step\n",
            "1/1 [==============================] - 1s 552ms/step\n",
            "1/1 [==============================] - 1s 532ms/step\n",
            "1/1 [==============================] - 1s 552ms/step\n",
            "1/1 [==============================] - 1s 565ms/step\n",
            "1/1 [==============================] - 1s 766ms/step\n",
            "1/1 [==============================] - 1s 978ms/step\n",
            "1/1 [==============================] - 1s 908ms/step\n",
            "1/1 [==============================] - 1s 553ms/step\n",
            "1/1 [==============================] - 1s 554ms/step\n",
            "1/1 [==============================] - 1s 554ms/step\n",
            "1/1 [==============================] - 1s 554ms/step\n",
            "1/1 [==============================] - 1s 571ms/step\n",
            "1/1 [==============================] - 1s 571ms/step\n",
            "1/1 [==============================] - 1s 551ms/step\n",
            "1/1 [==============================] - 1s 553ms/step\n",
            "1/1 [==============================] - 1s 544ms/step\n"
          ]
        }
      ]
    },
    {
      "cell_type": "code",
      "source": [
        "# Train Decision Tree classifier\n",
        "clf = DecisionTreeClassifier()\n",
        "clf.fit(x_train, y_train)\n"
      ],
      "metadata": {
        "colab": {
          "base_uri": "https://localhost:8080/",
          "height": 74
        },
        "id": "FK71rca9OOvD",
        "outputId": "c81c68fc-a863-43a5-96be-c046561f76ba"
      },
      "execution_count": null,
      "outputs": [
        {
          "output_type": "execute_result",
          "data": {
            "text/plain": [
              "DecisionTreeClassifier()"
            ],
            "text/html": [
              "<style>#sk-container-id-1 {color: black;background-color: white;}#sk-container-id-1 pre{padding: 0;}#sk-container-id-1 div.sk-toggleable {background-color: white;}#sk-container-id-1 label.sk-toggleable__label {cursor: pointer;display: block;width: 100%;margin-bottom: 0;padding: 0.3em;box-sizing: border-box;text-align: center;}#sk-container-id-1 label.sk-toggleable__label-arrow:before {content: \"▸\";float: left;margin-right: 0.25em;color: #696969;}#sk-container-id-1 label.sk-toggleable__label-arrow:hover:before {color: black;}#sk-container-id-1 div.sk-estimator:hover label.sk-toggleable__label-arrow:before {color: black;}#sk-container-id-1 div.sk-toggleable__content {max-height: 0;max-width: 0;overflow: hidden;text-align: left;background-color: #f0f8ff;}#sk-container-id-1 div.sk-toggleable__content pre {margin: 0.2em;color: black;border-radius: 0.25em;background-color: #f0f8ff;}#sk-container-id-1 input.sk-toggleable__control:checked~div.sk-toggleable__content {max-height: 200px;max-width: 100%;overflow: auto;}#sk-container-id-1 input.sk-toggleable__control:checked~label.sk-toggleable__label-arrow:before {content: \"▾\";}#sk-container-id-1 div.sk-estimator input.sk-toggleable__control:checked~label.sk-toggleable__label {background-color: #d4ebff;}#sk-container-id-1 div.sk-label input.sk-toggleable__control:checked~label.sk-toggleable__label {background-color: #d4ebff;}#sk-container-id-1 input.sk-hidden--visually {border: 0;clip: rect(1px 1px 1px 1px);clip: rect(1px, 1px, 1px, 1px);height: 1px;margin: -1px;overflow: hidden;padding: 0;position: absolute;width: 1px;}#sk-container-id-1 div.sk-estimator {font-family: monospace;background-color: #f0f8ff;border: 1px dotted black;border-radius: 0.25em;box-sizing: border-box;margin-bottom: 0.5em;}#sk-container-id-1 div.sk-estimator:hover {background-color: #d4ebff;}#sk-container-id-1 div.sk-parallel-item::after {content: \"\";width: 100%;border-bottom: 1px solid gray;flex-grow: 1;}#sk-container-id-1 div.sk-label:hover label.sk-toggleable__label {background-color: #d4ebff;}#sk-container-id-1 div.sk-serial::before {content: \"\";position: absolute;border-left: 1px solid gray;box-sizing: border-box;top: 0;bottom: 0;left: 50%;z-index: 0;}#sk-container-id-1 div.sk-serial {display: flex;flex-direction: column;align-items: center;background-color: white;padding-right: 0.2em;padding-left: 0.2em;position: relative;}#sk-container-id-1 div.sk-item {position: relative;z-index: 1;}#sk-container-id-1 div.sk-parallel {display: flex;align-items: stretch;justify-content: center;background-color: white;position: relative;}#sk-container-id-1 div.sk-item::before, #sk-container-id-1 div.sk-parallel-item::before {content: \"\";position: absolute;border-left: 1px solid gray;box-sizing: border-box;top: 0;bottom: 0;left: 50%;z-index: -1;}#sk-container-id-1 div.sk-parallel-item {display: flex;flex-direction: column;z-index: 1;position: relative;background-color: white;}#sk-container-id-1 div.sk-parallel-item:first-child::after {align-self: flex-end;width: 50%;}#sk-container-id-1 div.sk-parallel-item:last-child::after {align-self: flex-start;width: 50%;}#sk-container-id-1 div.sk-parallel-item:only-child::after {width: 0;}#sk-container-id-1 div.sk-dashed-wrapped {border: 1px dashed gray;margin: 0 0.4em 0.5em 0.4em;box-sizing: border-box;padding-bottom: 0.4em;background-color: white;}#sk-container-id-1 div.sk-label label {font-family: monospace;font-weight: bold;display: inline-block;line-height: 1.2em;}#sk-container-id-1 div.sk-label-container {text-align: center;}#sk-container-id-1 div.sk-container {/* jupyter's `normalize.less` sets `[hidden] { display: none; }` but bootstrap.min.css set `[hidden] { display: none !important; }` so we also need the `!important` here to be able to override the default hidden behavior on the sphinx rendered scikit-learn.org. See: https://github.com/scikit-learn/scikit-learn/issues/21755 */display: inline-block !important;position: relative;}#sk-container-id-1 div.sk-text-repr-fallback {display: none;}</style><div id=\"sk-container-id-1\" class=\"sk-top-container\"><div class=\"sk-text-repr-fallback\"><pre>DecisionTreeClassifier()</pre><b>In a Jupyter environment, please rerun this cell to show the HTML representation or trust the notebook. <br />On GitHub, the HTML representation is unable to render, please try loading this page with nbviewer.org.</b></div><div class=\"sk-container\" hidden><div class=\"sk-item\"><div class=\"sk-estimator sk-toggleable\"><input class=\"sk-toggleable__control sk-hidden--visually\" id=\"sk-estimator-id-1\" type=\"checkbox\" checked><label for=\"sk-estimator-id-1\" class=\"sk-toggleable__label sk-toggleable__label-arrow\">DecisionTreeClassifier</label><div class=\"sk-toggleable__content\"><pre>DecisionTreeClassifier()</pre></div></div></div></div></div>"
            ]
          },
          "metadata": {},
          "execution_count": 8
        }
      ]
    },
    {
      "cell_type": "code",
      "source": [
        "# Predict on test set\n",
        "y_pred = clf.predict(x_test)"
      ],
      "metadata": {
        "id": "YiNA0jc8OQof"
      },
      "execution_count": null,
      "outputs": []
    },
    {
      "cell_type": "code",
      "source": [
        "# Confusion matrix\n",
        "conf_matrix = confusion_matrix(y_test, y_pred)\n",
        "print(\"Confusion Matrix:\")\n",
        "print(conf_matrix)"
      ],
      "metadata": {
        "colab": {
          "base_uri": "https://localhost:8080/"
        },
        "id": "Sdra4YEBOS45",
        "outputId": "c57ef35f-a0c4-45b2-dd47-86f9d6180750"
      },
      "execution_count": null,
      "outputs": [
        {
          "output_type": "stream",
          "name": "stdout",
          "text": [
            "Confusion Matrix:\n",
            "[[2 1 1 1 0]\n",
            " [0 3 0 2 0]\n",
            " [1 0 4 0 0]\n",
            " [2 0 2 0 1]\n",
            " [0 0 1 0 4]]\n"
          ]
        }
      ]
    },
    {
      "cell_type": "code",
      "source": [
        "# Classification report\n",
        "print(\"\\nClassification Report:\")\n",
        "print(classification_report(y_test, y_pred))"
      ],
      "metadata": {
        "colab": {
          "base_uri": "https://localhost:8080/"
        },
        "id": "wDELPqJ5OUNE",
        "outputId": "4fc736bb-a280-4cea-9a2d-604ea24cf0a5"
      },
      "execution_count": null,
      "outputs": [
        {
          "output_type": "stream",
          "name": "stdout",
          "text": [
            "\n",
            "Classification Report:\n",
            "              precision    recall  f1-score   support\n",
            "\n",
            "           0       0.40      0.40      0.40         5\n",
            "           1       0.75      0.60      0.67         5\n",
            "           2       0.50      0.80      0.62         5\n",
            "           3       0.00      0.00      0.00         5\n",
            "           4       0.80      0.80      0.80         5\n",
            "\n",
            "    accuracy                           0.52        25\n",
            "   macro avg       0.49      0.52      0.50        25\n",
            "weighted avg       0.49      0.52      0.50        25\n",
            "\n"
          ]
        }
      ]
    },
    {
      "cell_type": "code",
      "source": [
        "# Performance metrics\n",
        "accuracy = metrics.accuracy_score(y_test, y_pred)\n",
        "precision = metrics.precision_score(y_test, y_pred, average='weighted')\n",
        "recall = metrics.recall_score(y_test, y_pred, average='weighted')\n",
        "f1_score = metrics.f1_score(y_test, y_pred, average='weighted')\n",
        "\n",
        "print(\"\\nAccuracy:\", accuracy)\n",
        "print(\"Precision:\", precision)\n",
        "print(\"Recall:\", recall)\n",
        "print(\"F1 Score:\", f1_score)\n",
        "\n",
        "# Heatmap\n",
        "plt.figure(figsize=(8, 6))\n",
        "sns.heatmap(conf_matrix, annot=True, cmap='Reds', fmt='g', xticklabels=[str(i) for i in range(5)], yticklabels=[str(i) for i in range(5)])\n",
        "plt.title('Confusion Matrix')\n",
        "plt.xlabel('Predicted labels')\n",
        "plt.ylabel('True labels')\n",
        "plt.show()"
      ],
      "metadata": {
        "colab": {
          "base_uri": "https://localhost:8080/",
          "height": 654
        },
        "id": "UgJ-WKzJOYHU",
        "outputId": "cc756afa-d365-4378-be9c-d3031647291f"
      },
      "execution_count": null,
      "outputs": [
        {
          "output_type": "stream",
          "name": "stdout",
          "text": [
            "\n",
            "Accuracy: 0.52\n",
            "Precision: 0.49\n",
            "Recall: 0.52\n",
            "F1 Score: 0.4964102564102565\n"
          ]
        },
        {
          "output_type": "display_data",
          "data": {
            "text/plain": [
              "<Figure size 800x600 with 2 Axes>"
            ],
            "image/png": "[encoded data removed]"
          },
          "metadata": {}
        }
      ]
    }
  ]
}